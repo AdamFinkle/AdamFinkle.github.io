{
 "cells": [
  {
   "cell_type": "markdown",
   "metadata": {},
   "source": [
    "# Clustering"
   ]
  },
  {
   "cell_type": "markdown",
   "metadata": {},
   "source": [
    "Grouping unlabeled data is a simple but essential part of unsupervised machine learning and enables models to recognize what they have not yet seen before."
   ]
  },
  {
   "cell_type": "markdown",
   "metadata": {},
   "source": [
    "## K-means Clustering"
   ]
  },
  {
   "cell_type": "markdown",
   "metadata": {},
   "source": [
    "The k-means algorithm separates data into k equal-variance groups minimizing the sum-of-squares distance of their samples to their respective centroids.  It does so by first choosing k arbitrary data points as centroids and then assigning each point to its nearest centroid, whereafter the algorithm calculates a new set of centroids by averaging the positions of the samples assigned to each.  k-means clustering repeats this process with the new centroids until they move less than some tolerance.\n",
    "\n",
    "While this method always converges over enough time, it may do so only to a local minimum, and whether it does or not greatly depends on the choice of initial centroids.  Therefore, it is often repeated over some number of initial centroid sets. The k-means clustering algorithm in scikit-learn includes a k-means++ initialization method ensuring that initial centroids are distant."
   ]
  },
  {
   "cell_type": "markdown",
   "metadata": {},
   "source": [
    "### Mini-batch K-means"
   ]
  },
  {
   "cell_type": "markdown",
   "metadata": {},
   "source": [
    "At each step of the k-means algorithm, mini-batch K-means clustering randomly samples the data rather than using the entire set, minimially reducing quality to converge much faster."
   ]
  }
 ],
 "metadata": {
  "kernelspec": {
   "display_name": "Python 3",
   "language": "python",
   "name": "python3"
  },
  "language_info": {
   "codemirror_mode": {
    "name": "ipython",
    "version": 3
   },
   "file_extension": ".py",
   "mimetype": "text/x-python",
   "name": "python",
   "nbconvert_exporter": "python",
   "pygments_lexer": "ipython3",
   "version": "3.8.5"
  }
 },
 "nbformat": 4,
 "nbformat_minor": 4
}
